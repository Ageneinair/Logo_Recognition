{
 "cells": [
  {
   "cell_type": "code",
   "execution_count": 1,
   "metadata": {},
   "outputs": [],
   "source": [
    "import os\n",
    "import cv2\n",
    "import numpy as np\n",
    "import pandas as pd\n",
    "import imutils\n",
    "import matplotlib.pyplot as plt\n",
    "import matplotlib.patches as patches\n",
    "import random"
   ]
  },
  {
   "cell_type": "markdown",
   "metadata": {},
   "source": [
    "## Read annotation file ##"
   ]
  },
  {
   "cell_type": "code",
   "execution_count": 2,
   "metadata": {},
   "outputs": [
    {
     "data": {
      "text/html": [
       "<div>\n",
       "<style scoped>\n",
       "    .dataframe tbody tr th:only-of-type {\n",
       "        vertical-align: middle;\n",
       "    }\n",
       "\n",
       "    .dataframe tbody tr th {\n",
       "        vertical-align: top;\n",
       "    }\n",
       "\n",
       "    .dataframe thead th {\n",
       "        text-align: right;\n",
       "    }\n",
       "</style>\n",
       "<table border=\"1\" class=\"dataframe\">\n",
       "  <thead>\n",
       "    <tr style=\"text-align: right;\">\n",
       "      <th></th>\n",
       "      <th>filename</th>\n",
       "      <th>label</th>\n",
       "      <th>subset</th>\n",
       "      <th>x1</th>\n",
       "      <th>y1</th>\n",
       "      <th>x2</th>\n",
       "      <th>y2</th>\n",
       "    </tr>\n",
       "  </thead>\n",
       "  <tbody>\n",
       "    <tr>\n",
       "      <th>0</th>\n",
       "      <td>3321350768.jpg</td>\n",
       "      <td>Ford</td>\n",
       "      <td>5</td>\n",
       "      <td>26</td>\n",
       "      <td>75</td>\n",
       "      <td>481</td>\n",
       "      <td>268</td>\n",
       "    </tr>\n",
       "    <tr>\n",
       "      <th>1</th>\n",
       "      <td>2656406197.jpg</td>\n",
       "      <td>Vodafone</td>\n",
       "      <td>1</td>\n",
       "      <td>111</td>\n",
       "      <td>9</td>\n",
       "      <td>185</td>\n",
       "      <td>80</td>\n",
       "    </tr>\n",
       "    <tr>\n",
       "      <th>2</th>\n",
       "      <td>2662264721.jpg</td>\n",
       "      <td>RedBull</td>\n",
       "      <td>2</td>\n",
       "      <td>3</td>\n",
       "      <td>197</td>\n",
       "      <td>3</td>\n",
       "      <td>197</td>\n",
       "    </tr>\n",
       "    <tr>\n",
       "      <th>3</th>\n",
       "      <td>4771691508.jpg</td>\n",
       "      <td>Unicef</td>\n",
       "      <td>2</td>\n",
       "      <td>332</td>\n",
       "      <td>308</td>\n",
       "      <td>424</td>\n",
       "      <td>329</td>\n",
       "    </tr>\n",
       "    <tr>\n",
       "      <th>4</th>\n",
       "      <td>43671206.jpg</td>\n",
       "      <td>Ferrari</td>\n",
       "      <td>1</td>\n",
       "      <td>89</td>\n",
       "      <td>146</td>\n",
       "      <td>223</td>\n",
       "      <td>323</td>\n",
       "    </tr>\n",
       "  </tbody>\n",
       "</table>\n",
       "</div>"
      ],
      "text/plain": [
       "         filename     label  subset   x1   y1   x2   y2\n",
       "0  3321350768.jpg      Ford       5   26   75  481  268\n",
       "1  2656406197.jpg  Vodafone       1  111    9  185   80\n",
       "2  2662264721.jpg   RedBull       2    3  197    3  197\n",
       "3  4771691508.jpg    Unicef       2  332  308  424  329\n",
       "4    43671206.jpg   Ferrari       1   89  146  223  323"
      ]
     },
     "execution_count": 2,
     "metadata": {},
     "output_type": "execute_result"
    }
   ],
   "source": [
    "data = pd.read_csv(\"./data/raw_dataset/flickr_logos_27_dataset_training_set_annotation.txt\",\n",
    "                sep=\" \", header=None)\n",
    "data.drop(data.columns[-1],axis=1, inplace=True)\n",
    "data.columns=[\"filename\",\"label\",\"subset\",\"x1\",\"y1\",\"x2\",\"y2\"]\n",
    "# shuffle the datasets\n",
    "data = data.sample(frac=1).reset_index(drop=True)\n",
    "data.head()"
   ]
  },
  {
   "cell_type": "markdown",
   "metadata": {},
   "source": [
    "## Visualize Data ##"
   ]
  },
  {
   "cell_type": "code",
   "execution_count": 3,
   "metadata": {},
   "outputs": [],
   "source": [
    "def show_image(id):\n",
    "    fig = plt.figure()\n",
    "    image = os.path.join(\"./data/raw_dataset/flickr_logos_27_dataset_images/\",data.loc[id][\"filename\"])\n",
    "    image = cv2.imread(image)\n",
    "    cv2.rectangle(image,(data[\"x1\"].iloc[id], data[\"y1\"].iloc[id]),(data[\"x2\"].iloc[id], data[\"y2\"].iloc[id]),\n",
    "                 (255, 0, 0), 5)\n",
    "    plt.figure(8)\n",
    "    plt.imshow(image)"
   ]
  },
  {
   "cell_type": "code",
   "execution_count": 4,
   "metadata": {},
   "outputs": [
    {
     "data": {
      "text/plain": [
       "<Figure size 432x288 with 0 Axes>"
      ]
     },
     "metadata": {},
     "output_type": "display_data"
    },
    {
     "data": {
      "image/png": "[encoded data removed]",
      "text/plain": [
       "<Figure size 432x288 with 1 Axes>"
      ]
     },
     "metadata": {
      "needs_background": "light"
     },
     "output_type": "display_data"
    }
   ],
   "source": [
    "id = random.randint(0,len(data))\n",
    "show_image(id)"
   ]
  },
  {
   "cell_type": "markdown",
   "metadata": {},
   "source": [
    "## Crop images and generate training set and test set ##"
   ]
  },
  {
   "cell_type": "code",
   "execution_count": 5,
   "metadata": {},
   "outputs": [
    {
     "name": "stdout",
     "output_type": "stream",
     "text": [
      "2\n",
      "166\n",
      "708\n",
      "2392\n",
      "4524\n"
     ]
    }
   ],
   "source": [
    "def crop_img(id):\n",
    "    image = os.path.join(\"./data/raw_dataset/flickr_logos_27_dataset_images/\",data.loc[id][\"filename\"])\n",
    "    image = cv2.imread(image)\n",
    "    crop_image = image[data[\"y1\"].iloc[id]:data[\"y2\"].iloc[id],data[\"x1\"].iloc[id]:data[\"x2\"].iloc[id]]\n",
    "    return crop_image\n",
    "  \n",
    "WIDTH = 64\n",
    "HEIGHT = 64\n",
    "\n",
    "for id, name in enumerate(data[\"filename\"]):\n",
    "    cropped_image = crop_img(id)\n",
    "    try:\n",
    "        resized_image = cv2.resize(cropped_image,(WIDTH,HEIGHT),interpolation=cv2.INTER_CUBIC)\n",
    "    except:\n",
    "        print(id)\n",
    "        continue\n",
    "    if data.iloc[id][\"label\"] == 'Pepsi' or data.iloc[id][\"label\"] == 'Cocacola':\n",
    "        image_name = str(id)+\"_\"+data.iloc[id][\"label\"]+\".jpg\"\n",
    "    else:\n",
    "        image_name = str(id)+\"_bkg.jpg\"\n",
    "    cv2.imwrite(os.path.join(\"./data/new_dataset/\",image_name),resized_image)"
   ]
  },
  {
   "cell_type": "markdown",
   "metadata": {},
   "source": [
    "Let's see how is problem data look like..."
   ]
  },
  {
   "cell_type": "code",
   "execution_count": 7,
   "metadata": {},
   "outputs": [
    {
     "data": {
      "text/plain": [
       "filename    2662264721.jpg\n",
       "label              RedBull\n",
       "subset                   2\n",
       "x1                       3\n",
       "y1                     197\n",
       "x2                       3\n",
       "y2                     197\n",
       "Name: 2, dtype: object"
      ]
     },
     "execution_count": 7,
     "metadata": {},
     "output_type": "execute_result"
    }
   ],
   "source": [
    "data.iloc[2]"
   ]
  },
  {
   "cell_type": "code",
   "execution_count": null,
   "metadata": {},
   "outputs": [],
   "source": []
  }
 ],
 "metadata": {
  "kernelspec": {
   "display_name": "py36",
   "language": "python",
   "name": "py36"
  },
  "language_info": {
   "codemirror_mode": {
    "name": "ipython",
    "version": 3
   },
   "file_extension": ".py",
   "mimetype": "text/x-python",
   "name": "python",
   "nbconvert_exporter": "python",
   "pygments_lexer": "ipython3",
   "version": "3.6.8"
  }
 },
 "nbformat": 4,
 "nbformat_minor": 2
}
